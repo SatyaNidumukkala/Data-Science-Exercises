{
 "cells": [
  {
   "cell_type": "markdown",
   "id": "0596c5b8-2b13-4c3d-bcf3-78c849209a97",
   "metadata": {},
   "source": [
    "# Data Science Tools and Ecosystem"
   ]
  },
  {
   "cell_type": "markdown",
   "id": "be964e96-b31f-44ae-815f-63070daf423f",
   "metadata": {},
   "source": [
    "In this notebook, Data Science Tools and Ecosystem are summarized."
   ]
  },
  {
   "cell_type": "markdown",
   "id": "3850ef9f-b621-43f8-99bd-5f543db53a3f",
   "metadata": {},
   "source": [
    "**Objectives:**\n",
    "\n",
    "* Create a Jupyter Notebook\n",
    "\n",
    "* Insert code and markdown cells\n",
    "\n",
    "* Share your notebook through GitHub"
   ]
  },
  {
   "cell_type": "markdown",
   "id": "b241527f-8ee5-42d5-b236-d5e17752d771",
   "metadata": {},
   "source": [
    "Some of the popular languages that Data Scientists use are:\n",
    "\n",
    "1.Python\n",
    "\n",
    "2.R\n",
    "\n",
    "3.SQL\n",
    "\n",
    "4.Java\n",
    "\n",
    "5.Java Script\n",
    "\n",
    "6.Scala\n",
    "\n",
    "7.Julia\n",
    "\n",
    "8.c++"
   ]
  },
  {
   "cell_type": "markdown",
   "id": "ccaedb1a-fc23-45fb-87a4-2a8ba246a39a",
   "metadata": {},
   "source": [
    "Some of the commonly used libraries used by Data Scientists include:\n",
    "\n",
    "1.NumPy\n",
    "\n",
    "2.Matplotlib\n",
    "\n",
    "3.SciPy\n",
    "\n",
    "4.Pandas\n",
    "\n",
    "5.Seaborn\n",
    "\n",
    "6.Tensor Flow"
   ]
  },
  {
   "cell_type": "markdown",
   "id": "eb84d83d-3a59-46d2-b3e4-d2c6482fd8d8",
   "metadata": {},
   "source": [
    "|Data Science Tools|\n",
    "|------------------|\n",
    "|Jupyter Notebook  |\n",
    "|RStudio           |\n",
    "|Apache Zeppelin   |\n",
    "|Spyder            |\n",
    "|Anaconda          |"
   ]
  },
  {
   "cell_type": "markdown",
   "id": "e0f5c5da-d9f1-4f0b-92e2-ae91c2bf1e85",
   "metadata": {},
   "source": [
    "### Below are a few examples of evaluating arithmetic expressions in Python"
   ]
  },
  {
   "cell_type": "code",
   "execution_count": 4,
   "id": "e102b855-ba40-4515-9548-15d82b931d82",
   "metadata": {},
   "outputs": [
    {
     "data": {
      "text/plain": [
       "17"
      ]
     },
     "execution_count": 4,
     "metadata": {},
     "output_type": "execute_result"
    }
   ],
   "source": [
    "# This is a simple arithmetic expression to multiply then add integers.\n",
    "(3*4)+5"
   ]
  },
  {
   "cell_type": "code",
   "execution_count": 5,
   "id": "748b1ac1-b8b8-4d38-a720-5bc6b8559929",
   "metadata": {},
   "outputs": [
    {
     "data": {
      "text/plain": [
       "3.3333333333333335"
      ]
     },
     "execution_count": 5,
     "metadata": {},
     "output_type": "execute_result"
    }
   ],
   "source": [
    "# This will convert 200 minutes to hours by dividing by 60.\n",
    "minutes = 200\n",
    "hours = minutes / 60\n",
    "hours"
   ]
  },
  {
   "cell_type": "markdown",
   "id": "12185f15-7e8f-4b51-88e8-5f78fd7f3171",
   "metadata": {},
   "source": [
    "## Author\n",
    "Nidumukkala Satya Sai Umesh Chandra"
   ]
  },
  {
   "cell_type": "code",
   "execution_count": null,
   "id": "5af89b96-d0e4-48e7-9541-0adfb75bec1f",
   "metadata": {},
   "outputs": [],
   "source": []
  }
 ],
 "metadata": {
  "kernelspec": {
   "display_name": "Python 3 (ipykernel)",
   "language": "python",
   "name": "python3"
  },
  "language_info": {
   "codemirror_mode": {
    "name": "ipython",
    "version": 3
   },
   "file_extension": ".py",
   "mimetype": "text/x-python",
   "name": "python",
   "nbconvert_exporter": "python",
   "pygments_lexer": "ipython3",
   "version": "3.11.9"
  }
 },
 "nbformat": 4,
 "nbformat_minor": 5
}
